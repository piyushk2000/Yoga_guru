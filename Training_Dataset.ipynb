{
 "cells": [
  {
   "cell_type": "markdown",
   "metadata": {},
   "source": [
    "ALL_POSE.csv is a dummy data to perform train_test split"
   ]
  },
  {
   "cell_type": "code",
   "execution_count": 13,
   "metadata": {},
   "outputs": [],
   "source": [
    "import numpy as np\n",
    "import pandas as pd \n",
    "import matplotlib.pyplot as plt\n",
    "%matplotlib inline\n"
   ]
  },
  {
   "cell_type": "code",
   "execution_count": 14,
   "metadata": {},
   "outputs": [],
   "source": [
    "df = pd.read_csv('individual data sets/yoga.csv')"
   ]
  },
  {
   "cell_type": "code",
   "execution_count": 16,
   "metadata": {},
   "outputs": [
    {
     "data": {
      "text/html": [
       "<div>\n",
       "<style scoped>\n",
       "    .dataframe tbody tr th:only-of-type {\n",
       "        vertical-align: middle;\n",
       "    }\n",
       "\n",
       "    .dataframe tbody tr th {\n",
       "        vertical-align: top;\n",
       "    }\n",
       "\n",
       "    .dataframe thead th {\n",
       "        text-align: right;\n",
       "    }\n",
       "</style>\n",
       "<table border=\"1\" class=\"dataframe\">\n",
       "  <thead>\n",
       "    <tr style=\"text-align: right;\">\n",
       "      <th></th>\n",
       "      <th>class</th>\n",
       "      <th>x1</th>\n",
       "      <th>y1</th>\n",
       "      <th>z1</th>\n",
       "      <th>v1</th>\n",
       "      <th>x2</th>\n",
       "      <th>y2</th>\n",
       "      <th>z2</th>\n",
       "      <th>v2</th>\n",
       "      <th>x3</th>\n",
       "      <th>...</th>\n",
       "      <th>z31</th>\n",
       "      <th>v31</th>\n",
       "      <th>x32</th>\n",
       "      <th>y32</th>\n",
       "      <th>z32</th>\n",
       "      <th>v32</th>\n",
       "      <th>x33</th>\n",
       "      <th>y33</th>\n",
       "      <th>z33</th>\n",
       "      <th>v33</th>\n",
       "    </tr>\n",
       "  </thead>\n",
       "  <tbody>\n",
       "    <tr>\n",
       "      <th>0</th>\n",
       "      <td>TrikonaAsana</td>\n",
       "      <td>0.658107</td>\n",
       "      <td>0.399988</td>\n",
       "      <td>-0.232685</td>\n",
       "      <td>0.999985</td>\n",
       "      <td>0.670482</td>\n",
       "      <td>0.406888</td>\n",
       "      <td>-0.234085</td>\n",
       "      <td>0.999936</td>\n",
       "      <td>0.671605</td>\n",
       "      <td>...</td>\n",
       "      <td>0.081472</td>\n",
       "      <td>0.993228</td>\n",
       "      <td>0.714445</td>\n",
       "      <td>0.882579</td>\n",
       "      <td>0.206206</td>\n",
       "      <td>0.901431</td>\n",
       "      <td>0.231325</td>\n",
       "      <td>0.902276</td>\n",
       "      <td>-0.034461</td>\n",
       "      <td>0.994783</td>\n",
       "    </tr>\n",
       "    <tr>\n",
       "      <th>1</th>\n",
       "      <td>TrikonaAsana</td>\n",
       "      <td>0.657797</td>\n",
       "      <td>0.401103</td>\n",
       "      <td>-0.232699</td>\n",
       "      <td>0.999983</td>\n",
       "      <td>0.670214</td>\n",
       "      <td>0.408072</td>\n",
       "      <td>-0.232902</td>\n",
       "      <td>0.999924</td>\n",
       "      <td>0.671432</td>\n",
       "      <td>...</td>\n",
       "      <td>0.029949</td>\n",
       "      <td>0.993468</td>\n",
       "      <td>0.716077</td>\n",
       "      <td>0.883021</td>\n",
       "      <td>0.225300</td>\n",
       "      <td>0.906267</td>\n",
       "      <td>0.232438</td>\n",
       "      <td>0.902466</td>\n",
       "      <td>-0.092808</td>\n",
       "      <td>0.994897</td>\n",
       "    </tr>\n",
       "    <tr>\n",
       "      <th>2</th>\n",
       "      <td>TrikonaAsana</td>\n",
       "      <td>0.657303</td>\n",
       "      <td>0.401405</td>\n",
       "      <td>-0.230929</td>\n",
       "      <td>0.999982</td>\n",
       "      <td>0.669726</td>\n",
       "      <td>0.408260</td>\n",
       "      <td>-0.229953</td>\n",
       "      <td>0.999913</td>\n",
       "      <td>0.671034</td>\n",
       "      <td>...</td>\n",
       "      <td>0.033274</td>\n",
       "      <td>0.993691</td>\n",
       "      <td>0.717033</td>\n",
       "      <td>0.883258</td>\n",
       "      <td>0.223532</td>\n",
       "      <td>0.911113</td>\n",
       "      <td>0.233140</td>\n",
       "      <td>0.902528</td>\n",
       "      <td>-0.088684</td>\n",
       "      <td>0.994986</td>\n",
       "    </tr>\n",
       "    <tr>\n",
       "      <th>3</th>\n",
       "      <td>TrikonaAsana</td>\n",
       "      <td>0.656615</td>\n",
       "      <td>0.401957</td>\n",
       "      <td>-0.230326</td>\n",
       "      <td>0.999981</td>\n",
       "      <td>0.669127</td>\n",
       "      <td>0.408609</td>\n",
       "      <td>-0.228878</td>\n",
       "      <td>0.999904</td>\n",
       "      <td>0.670539</td>\n",
       "      <td>...</td>\n",
       "      <td>0.030369</td>\n",
       "      <td>0.993931</td>\n",
       "      <td>0.717905</td>\n",
       "      <td>0.883356</td>\n",
       "      <td>0.222961</td>\n",
       "      <td>0.915716</td>\n",
       "      <td>0.234691</td>\n",
       "      <td>0.902397</td>\n",
       "      <td>-0.092079</td>\n",
       "      <td>0.995101</td>\n",
       "    </tr>\n",
       "    <tr>\n",
       "      <th>4</th>\n",
       "      <td>TrikonaAsana</td>\n",
       "      <td>0.656238</td>\n",
       "      <td>0.402549</td>\n",
       "      <td>-0.229423</td>\n",
       "      <td>0.999980</td>\n",
       "      <td>0.668835</td>\n",
       "      <td>0.409033</td>\n",
       "      <td>-0.227699</td>\n",
       "      <td>0.999897</td>\n",
       "      <td>0.670289</td>\n",
       "      <td>...</td>\n",
       "      <td>0.027389</td>\n",
       "      <td>0.994167</td>\n",
       "      <td>0.718261</td>\n",
       "      <td>0.883414</td>\n",
       "      <td>0.220368</td>\n",
       "      <td>0.919866</td>\n",
       "      <td>0.235331</td>\n",
       "      <td>0.902307</td>\n",
       "      <td>-0.095637</td>\n",
       "      <td>0.995226</td>\n",
       "    </tr>\n",
       "  </tbody>\n",
       "</table>\n",
       "<p>5 rows × 133 columns</p>\n",
       "</div>"
      ],
      "text/plain": [
       "          class        x1        y1        z1        v1        x2        y2  \\\n",
       "0  TrikonaAsana  0.658107  0.399988 -0.232685  0.999985  0.670482  0.406888   \n",
       "1  TrikonaAsana  0.657797  0.401103 -0.232699  0.999983  0.670214  0.408072   \n",
       "2  TrikonaAsana  0.657303  0.401405 -0.230929  0.999982  0.669726  0.408260   \n",
       "3  TrikonaAsana  0.656615  0.401957 -0.230326  0.999981  0.669127  0.408609   \n",
       "4  TrikonaAsana  0.656238  0.402549 -0.229423  0.999980  0.668835  0.409033   \n",
       "\n",
       "         z2        v2        x3  ...       z31       v31       x32       y32  \\\n",
       "0 -0.234085  0.999936  0.671605  ...  0.081472  0.993228  0.714445  0.882579   \n",
       "1 -0.232902  0.999924  0.671432  ...  0.029949  0.993468  0.716077  0.883021   \n",
       "2 -0.229953  0.999913  0.671034  ...  0.033274  0.993691  0.717033  0.883258   \n",
       "3 -0.228878  0.999904  0.670539  ...  0.030369  0.993931  0.717905  0.883356   \n",
       "4 -0.227699  0.999897  0.670289  ...  0.027389  0.994167  0.718261  0.883414   \n",
       "\n",
       "        z32       v32       x33       y33       z33       v33  \n",
       "0  0.206206  0.901431  0.231325  0.902276 -0.034461  0.994783  \n",
       "1  0.225300  0.906267  0.232438  0.902466 -0.092808  0.994897  \n",
       "2  0.223532  0.911113  0.233140  0.902528 -0.088684  0.994986  \n",
       "3  0.222961  0.915716  0.234691  0.902397 -0.092079  0.995101  \n",
       "4  0.220368  0.919866  0.235331  0.902307 -0.095637  0.995226  \n",
       "\n",
       "[5 rows x 133 columns]"
      ]
     },
     "execution_count": 16,
     "metadata": {},
     "output_type": "execute_result"
    }
   ],
   "source": [
    "df.head()\n"
   ]
  },
  {
   "cell_type": "code",
   "execution_count": 17,
   "metadata": {},
   "outputs": [
    {
     "data": {
      "text/plain": [
       "0          TrikonaAsana\n",
       "1          TrikonaAsana\n",
       "2          TrikonaAsana\n",
       "3          TrikonaAsana\n",
       "4          TrikonaAsana\n",
       "              ...      \n",
       "13844    ArdhChakrAsana\n",
       "13845    ArdhChakrAsana\n",
       "13846    ArdhChakrAsana\n",
       "13847    ArdhChakrAsana\n",
       "13848    ArdhChakrAsana\n",
       "Name: class, Length: 13849, dtype: object"
      ]
     },
     "execution_count": 17,
     "metadata": {},
     "output_type": "execute_result"
    }
   ],
   "source": [
    "X = df.drop('class', axis=1) # features\n",
    "y = df['class'] # target value\n",
    "y"
   ]
  },
  {
   "cell_type": "code",
   "execution_count": 18,
   "metadata": {},
   "outputs": [],
   "source": [
    "from sklearn.model_selection import train_test_split"
   ]
  },
  {
   "cell_type": "markdown",
   "metadata": {},
   "source": [
    "test_size=0.2 means 20% testing data and 80% training data"
   ]
  },
  {
   "cell_type": "code",
   "execution_count": 19,
   "metadata": {},
   "outputs": [],
   "source": [
    "X_train, X_test, y_train, y_test = train_test_split(X, y, test_size=0.3)"
   ]
  },
  {
   "cell_type": "code",
   "execution_count": 20,
   "metadata": {},
   "outputs": [
    {
     "data": {
      "text/plain": [
       "((9694, 132), (4155, 132), (9694,), (4155,))"
      ]
     },
     "execution_count": 20,
     "metadata": {},
     "output_type": "execute_result"
    }
   ],
   "source": [
    "X_train.shape, X_test.shape, y_train.shape, y_test.shape"
   ]
  },
  {
   "cell_type": "markdown",
   "metadata": {},
   "source": [
    "let's check if there are any null values (NaN) and clean our data"
   ]
  },
  {
   "cell_type": "code",
   "execution_count": 21,
   "metadata": {},
   "outputs": [
    {
     "data": {
      "text/plain": [
       "class    0\n",
       "x1       0\n",
       "y1       0\n",
       "z1       0\n",
       "v1       0\n",
       "        ..\n",
       "v32      0\n",
       "x33      0\n",
       "y33      0\n",
       "z33      0\n",
       "v33      0\n",
       "Length: 133, dtype: int64"
      ]
     },
     "execution_count": 21,
     "metadata": {},
     "output_type": "execute_result"
    }
   ],
   "source": [
    "df.isna().sum()"
   ]
  },
  {
   "cell_type": "code",
   "execution_count": 22,
   "metadata": {},
   "outputs": [],
   "source": [
    "from sklearn.pipeline import make_pipeline \n",
    "from sklearn.preprocessing import StandardScaler \n",
    "from sklearn.ensemble import RandomForestClassifier\n",
    "\n",
    "pipelines = {\n",
    "   \n",
    "    'rf':make_pipeline(StandardScaler(), RandomForestClassifier()),\n",
    "    \n",
    "}"
   ]
  },
  {
   "cell_type": "code",
   "execution_count": 23,
   "metadata": {},
   "outputs": [],
   "source": [
    "fit_models = {}\n",
    "for algo, pipeline in pipelines.items():\n",
    "    model = pipeline.fit(X_train, y_train)\n",
    "    fit_models[algo] = model"
   ]
  },
  {
   "cell_type": "code",
   "execution_count": 24,
   "metadata": {},
   "outputs": [
    {
     "name": "stdout",
     "output_type": "stream",
     "text": [
      "rf 1.0\n"
     ]
    }
   ],
   "source": [
    "from sklearn.metrics import accuracy_score # Accuracy metrics \n",
    "import pickle \n",
    "for algo, model in fit_models.items():\n",
    "    yhat = model.predict(X_test)\n",
    "    print(algo, accuracy_score(y_test, yhat))"
   ]
  },
  {
   "cell_type": "code",
   "execution_count": 12,
   "metadata": {},
   "outputs": [],
   "source": [
    "with open('model.pkl', 'wb') as f:\n",
    "    pickle.dump(fit_models['rf'], f)"
   ]
  }
 ],
 "metadata": {
  "interpreter": {
   "hash": "c0f70214c0dd213f07f54ee5d6e0ea644bdbba35113c9bfe8aaa0d1db03ad5dd"
  },
  "kernelspec": {
   "display_name": "Python 3.9.7 ('base')",
   "language": "python",
   "name": "python3"
  },
  "language_info": {
   "codemirror_mode": {
    "name": "ipython",
    "version": 3
   },
   "file_extension": ".py",
   "mimetype": "text/x-python",
   "name": "python",
   "nbconvert_exporter": "python",
   "pygments_lexer": "ipython3",
   "version": "3.9.7"
  },
  "orig_nbformat": 4
 },
 "nbformat": 4,
 "nbformat_minor": 2
}

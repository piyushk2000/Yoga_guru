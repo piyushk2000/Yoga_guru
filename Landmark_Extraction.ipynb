{
 "cells": [
  {
   "cell_type": "markdown",
   "metadata": {},
   "source": [
    "<Now>Now in order to make this we will be leveraging a pre built library known as mediapipe and a custom built machine learning algo</h>. what mediapipe will do is it will take the landmarks of our body via our webcam through opencv inorder to know where our arm is or our leg is while making that perticular pose."
   ]
  },
  {
   "cell_type": "code",
   "execution_count": 33,
   "metadata": {},
   "outputs": [],
   "source": [
    "import mediapipe as mp # Import mediapipe\n",
    "import cv2 # Import opencv"
   ]
  },
  {
   "cell_type": "markdown",
   "metadata": {},
   "source": [
    "so we dont have to draw different utilities or landmarks we can just import them directly as \"mp.solutions.drawing_utils\"\n",
    "and by using mp_holistic we will be importing all our landmark detection models that we will be using in this project."
   ]
  },
  {
   "cell_type": "code",
   "execution_count": 34,
   "metadata": {},
   "outputs": [],
   "source": [
    "mp_drawing = mp.solutions.drawing_utils # Drawing helpers\n",
    "mp_holistic = mp.solutions.holistic # Mediapipe Solutions"
   ]
  },
  {
   "cell_type": "markdown",
   "metadata": {},
   "source": [
    "The below command is used to capture live feed from our webcam as we are doing this project in real time. '0' basically denotes the location of webcam in my laptop it is located at 0 only but it might differ."
   ]
  },
  {
   "cell_type": "code",
   "execution_count": 51,
   "metadata": {},
   "outputs": [],
   "source": [
    "cap = cv2.VideoCapture(\"ardhchakra.mp4\")\n",
    "# Initiate holistic model\n",
    "with mp_holistic.Holistic(min_detection_confidence=0.5, min_tracking_confidence=0.5) as holistic:\n",
    "    \n",
    "    while cap.isOpened():\n",
    "        ret, frame = cap.read()\n",
    "        \n",
    "        # Recolor Feed\n",
    "        image = cv2.cvtColor(frame, cv2.COLOR_BGR2RGB)\n",
    "        image.flags.writeable = False        \n",
    "        \n",
    "        # Make Detections\n",
    "        results = holistic.process(image)\n",
    "        # print(results.face_landmarks)\n",
    "        \n",
    "        # face_landmarks, pose_landmarks, left_hand_landmarks, right_hand_landmarks\n",
    "        \n",
    "        # Recolor image back to BGR for rendering\n",
    "        image.flags.writeable = True   \n",
    "        image = cv2.cvtColor(image, cv2.COLOR_RGB2BGR)\n",
    "        \n",
    "        # 4. Pose Detections\n",
    "        mp_drawing.draw_landmarks(image, results.pose_landmarks, mp_holistic.POSE_CONNECTIONS, \n",
    "                                 mp_drawing.DrawingSpec(color=(245,117,66), thickness=2, circle_radius=4),\n",
    "                                 mp_drawing.DrawingSpec(color=(245,66,230), thickness=2, circle_radius=2)\n",
    "                                 )\n",
    "                        \n",
    "        cv2.imshow('Raw Webcam Feed', image)\n",
    "\n",
    "        if cv2.waitKey(10) & 0xFF == ord('q'):\n",
    "            break\n",
    "\n",
    "cap.release()\n",
    "cv2.destroyAllWindows()"
   ]
  },
  {
   "cell_type": "code",
   "execution_count": 52,
   "metadata": {},
   "outputs": [
    {
     "data": {
      "text/plain": [
       "[x: 0.7008782625198364\n",
       "y: 0.4322545826435089\n",
       "z: -0.13682249188423157\n",
       "visibility: 0.999793291091919\n",
       ", x: 0.6848320364952087\n",
       "y: 0.42454326152801514\n",
       "z: -0.1089281216263771\n",
       "visibility: 0.9997795820236206\n",
       ", x: 0.6824634075164795\n",
       "y: 0.4262210726737976\n",
       "z: -0.10901868343353271\n",
       "visibility: 0.9998095631599426\n",
       ", x: 0.6795611381530762\n",
       "y: 0.42817312479019165\n",
       "z: -0.10858891904354095\n",
       "visibility: 0.9997749924659729\n",
       ", x: 0.6832271814346313\n",
       "y: 0.4252406656742096\n",
       "z: -0.16703447699546814\n",
       "visibility: 0.9997196793556213\n",
       ", x: 0.6799707412719727\n",
       "y: 0.42742812633514404\n",
       "z: -0.1669885218143463\n",
       "visibility: 0.9997175335884094\n",
       ", x: 0.6760792136192322\n",
       "y: 0.42987701296806335\n",
       "z: -0.16667525470256805\n",
       "visibility: 0.9996668100357056\n",
       ", x: 0.6434487700462341\n",
       "y: 0.45796748995780945\n",
       "z: 0.030710628256201744\n",
       "visibility: 0.9998058676719666\n",
       ", x: 0.6392406225204468\n",
       "y: 0.46071526408195496\n",
       "z: -0.2512788772583008\n",
       "visibility: 0.9996252059936523\n",
       ", x: 0.6991753578186035\n",
       "y: 0.4565153121948242\n",
       "z: -0.08883628994226456\n",
       "visibility: 0.9996775984764099\n",
       ", x: 0.6967321634292603\n",
       "y: 0.4573122560977936\n",
       "z: -0.170336052775383\n",
       "visibility: 0.9995554089546204\n",
       ", x: 0.6286486983299255\n",
       "y: 0.5687130093574524\n",
       "z: 0.08153317868709564\n",
       "visibility: 0.9944405555725098\n",
       ", x: 0.617339015007019\n",
       "y: 0.5794091820716858\n",
       "z: -0.2685966193675995\n",
       "visibility: 0.9960635304450989\n",
       ", x: 0.5802059173583984\n",
       "y: 0.36622393131256104\n",
       "z: 0.12988518178462982\n",
       "visibility: 0.33286282420158386\n",
       ", x: 0.5728667378425598\n",
       "y: 0.34936562180519104\n",
       "z: -0.3277639150619507\n",
       "visibility: 0.9885445833206177\n",
       ", x: 0.48186177015304565\n",
       "y: 0.17545124888420105\n",
       "z: 0.17380577325820923\n",
       "visibility: 0.5236804485321045\n",
       ", x: 0.47099143266677856\n",
       "y: 0.15763236582279205\n",
       "z: -0.36863332986831665\n",
       "visibility: 0.9826574921607971\n",
       ", x: 0.45430856943130493\n",
       "y: 0.15396293997764587\n",
       "z: 0.18160323798656464\n",
       "visibility: 0.4213194251060486\n",
       ", x: 0.4413303732872009\n",
       "y: 0.1472206562757492\n",
       "z: -0.40746861696243286\n",
       "visibility: 0.9510728120803833\n",
       ", x: 0.45070767402648926\n",
       "y: 0.16301798820495605\n",
       "z: 0.1763061285018921\n",
       "visibility: 0.41916799545288086\n",
       ", x: 0.44072046875953674\n",
       "y: 0.1609049290418625\n",
       "z: -0.40728336572647095\n",
       "visibility: 0.9325392842292786\n",
       ", x: 0.45905551314353943\n",
       "y: 0.17383041977882385\n",
       "z: 0.1690787822008133\n",
       "visibility: 0.4172193109989166\n",
       ", x: 0.45059505105018616\n",
       "y: 0.16882771253585815\n",
       "z: -0.37224286794662476\n",
       "visibility: 0.9023511409759521\n",
       ", x: 0.45852717757225037\n",
       "y: 0.8330799341201782\n",
       "z: 0.15491823852062225\n",
       "visibility: 0.9944002032279968\n",
       ", x: 0.4397657811641693\n",
       "y: 0.8615719079971313\n",
       "z: -0.15505541861057281\n",
       "visibility: 0.9864208698272705\n",
       ", x: 0.2738528549671173\n",
       "y: 0.5731033682823181\n",
       "z: 0.12715736031532288\n",
       "visibility: 0.06513983756303787\n",
       ", x: 0.25401797890663147\n",
       "y: 0.5729868412017822\n",
       "z: -0.19682103395462036\n",
       "visibility: 0.9961746335029602\n",
       ", x: 0.39630475640296936\n",
       "y: 0.29002392292022705\n",
       "z: 0.21830931305885315\n",
       "visibility: 0.21478530764579773\n",
       ", x: 0.39579030871391296\n",
       "y: 0.27401408553123474\n",
       "z: -0.17611698806285858\n",
       "visibility: 0.9377598166465759\n",
       ", x: 0.4292216897010803\n",
       "y: 0.2707372307777405\n",
       "z: 0.22569939494132996\n",
       "visibility: 0.3495047390460968\n",
       ", x: 0.42323121428489685\n",
       "y: 0.2551998198032379\n",
       "z: -0.167153999209404\n",
       "visibility: 0.9197069406509399\n",
       ", x: 0.43895187973976135\n",
       "y: 0.15702080726623535\n",
       "z: 0.14176435768604279\n",
       "visibility: 0.2877790629863739\n",
       ", x: 0.43266287446022034\n",
       "y: 0.1465512365102768\n",
       "z: -0.2336471527814865\n",
       "visibility: 0.9167200922966003\n",
       "]"
      ]
     },
     "execution_count": 52,
     "metadata": {},
     "output_type": "execute_result"
    }
   ],
   "source": [
    "results.pose_landmarks.landmark"
   ]
  },
  {
   "cell_type": "markdown",
   "metadata": {},
   "source": [
    "Capture Landmarks & Export to CSV"
   ]
  },
  {
   "cell_type": "code",
   "execution_count": 53,
   "metadata": {},
   "outputs": [
    {
     "name": "stdout",
     "output_type": "stream",
     "text": [
      "33\n"
     ]
    }
   ],
   "source": [
    "import csv\n",
    "import os\n",
    "import numpy as np\n",
    "\n",
    "\n",
    "num_coords = len(results.pose_landmarks.landmark)\n",
    "print(num_coords)\n",
    "landmarks = ['class']\n",
    "for val in range(1, num_coords+1):\n",
    "    landmarks += ['x{}'.format(val), 'y{}'.format(val), 'z{}'.format(val), 'v{}'.format(val)]\n"
   ]
  },
  {
   "cell_type": "code",
   "execution_count": 14,
   "metadata": {},
   "outputs": [],
   "source": [
    "# with open('individual data sets/yoga.csv', mode='w', newline='') as f:\n",
    "#     csv_writer = csv.writer(f, delimiter=',', quotechar='\"', quoting=csv.QUOTE_MINIMAL)\n",
    "#     csv_writer.writerow(landmarks)"
   ]
  },
  {
   "cell_type": "code",
   "execution_count": 48,
   "metadata": {},
   "outputs": [],
   "source": [
    "class_name = \"ArdhChakrAsana\""
   ]
  },
  {
   "cell_type": "code",
   "execution_count": 49,
   "metadata": {},
   "outputs": [],
   "source": [
    "cap = cv2.VideoCapture(\"ardhchakra.mp4\")\n",
    "# Initiate holistic model\n",
    "with mp_holistic.Holistic(min_detection_confidence=0.5, min_tracking_confidence=0.5) as holistic:\n",
    "    \n",
    "    while cap.isOpened():\n",
    "        ret, frame = cap.read()\n",
    "        \n",
    "        # Recolor Feed\n",
    "        image = cv2.cvtColor(frame, cv2.COLOR_BGR2RGB)\n",
    "        image.flags.writeable = False        \n",
    "        \n",
    "        # Make Detections\n",
    "        results = holistic.process(image)\n",
    "        # print(results.face_landmarks)\n",
    "        \n",
    "        # face_landmarks, pose_landmarks, left_hand_landmarks, right_hand_landmarks\n",
    "        \n",
    "        # Recolor image back to BGR for rendering\n",
    "        image.flags.writeable = True   \n",
    "        image = cv2.cvtColor(image, cv2.COLOR_RGB2BGR)\n",
    "        \n",
    "\n",
    "        # 4. Pose Detections\n",
    "        mp_drawing.draw_landmarks(image, results.pose_landmarks, mp_holistic.POSE_CONNECTIONS, \n",
    "                                 mp_drawing.DrawingSpec(color=(245,117,66), thickness=2, circle_radius=4),\n",
    "                                 mp_drawing.DrawingSpec(color=(245,66,230), thickness=2, circle_radius=2)\n",
    "                                 )\n",
    "        # Export coordinates\n",
    "        try:\n",
    "            # Extract Pose landmarks\n",
    "            pose = results.pose_landmarks.landmark\n",
    "            pose_row = list(np.array([[landmark.x, landmark.y, landmark.z, landmark.visibility] for landmark in pose]).flatten())\n",
    "            \n",
    "            \n",
    "            # Concate rows\n",
    "            row = pose_row\n",
    "            \n",
    "            # Append class name \n",
    "            row.insert(0, class_name)\n",
    "            \n",
    "            # Export to CSV\n",
    "            with open('individual data sets/yoga.csv', mode='a', newline='') as f:\n",
    "                csv_writer = csv.writer(f, delimiter=',', quotechar='\"', quoting=csv.QUOTE_MINIMAL)\n",
    "                csv_writer.writerow(row) \n",
    "            \n",
    "        except:\n",
    "            pass\n",
    "                        \n",
    "        cv2.imshow('Raw Webcam Feed', image)\n",
    "\n",
    "        if cv2.waitKey(10) & 0xFF == ord('q'):\n",
    "            break\n",
    "\n",
    "cap.release()\n",
    "cv2.destroyAllWindows()"
   ]
  }
 ],
 "metadata": {
  "interpreter": {
   "hash": "a25b2d42e0fe57251b6ece2b75d30429fe26895efea1faac6949f166a7477be7"
  },
  "kernelspec": {
   "display_name": "Python 3.10.1 64-bit",
   "language": "python",
   "name": "python3"
  },
  "language_info": {
   "codemirror_mode": {
    "name": "ipython",
    "version": 3
   },
   "file_extension": ".py",
   "mimetype": "text/x-python",
   "name": "python",
   "nbconvert_exporter": "python",
   "pygments_lexer": "ipython3",
   "version": "3.9.7"
  },
  "orig_nbformat": 4
 },
 "nbformat": 4,
 "nbformat_minor": 2
}

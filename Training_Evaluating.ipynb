{
 "cells": [
  {
   "cell_type": "code",
   "execution_count": 452,
   "metadata": {},
   "outputs": [],
   "source": [
    "import numpy as np\n",
    "import pandas as pd \n",
    "import matplotlib.pyplot as plt\n",
    "%matplotlib inline\n"
   ]
  },
  {
   "cell_type": "code",
   "execution_count": 453,
   "metadata": {},
   "outputs": [],
   "source": [
    "df = pd.read_csv('individual data sets/yoga.csv')"
   ]
  },
  {
   "cell_type": "code",
   "execution_count": 454,
   "metadata": {},
   "outputs": [
    {
     "data": {
      "text/html": [
       "<div>\n",
       "<style scoped>\n",
       "    .dataframe tbody tr th:only-of-type {\n",
       "        vertical-align: middle;\n",
       "    }\n",
       "\n",
       "    .dataframe tbody tr th {\n",
       "        vertical-align: top;\n",
       "    }\n",
       "\n",
       "    .dataframe thead th {\n",
       "        text-align: right;\n",
       "    }\n",
       "</style>\n",
       "<table border=\"1\" class=\"dataframe\">\n",
       "  <thead>\n",
       "    <tr style=\"text-align: right;\">\n",
       "      <th></th>\n",
       "      <th>class</th>\n",
       "      <th>x1</th>\n",
       "      <th>y1</th>\n",
       "      <th>z1</th>\n",
       "      <th>v1</th>\n",
       "      <th>x2</th>\n",
       "      <th>y2</th>\n",
       "      <th>z2</th>\n",
       "      <th>v2</th>\n",
       "      <th>x3</th>\n",
       "      <th>...</th>\n",
       "      <th>z31</th>\n",
       "      <th>v31</th>\n",
       "      <th>x32</th>\n",
       "      <th>y32</th>\n",
       "      <th>z32</th>\n",
       "      <th>v32</th>\n",
       "      <th>x33</th>\n",
       "      <th>y33</th>\n",
       "      <th>z33</th>\n",
       "      <th>v33</th>\n",
       "    </tr>\n",
       "  </thead>\n",
       "  <tbody>\n",
       "    <tr>\n",
       "      <th>0</th>\n",
       "      <td>TrikonaAsana</td>\n",
       "      <td>0.658107</td>\n",
       "      <td>0.399988</td>\n",
       "      <td>-0.232685</td>\n",
       "      <td>0.999985</td>\n",
       "      <td>0.670482</td>\n",
       "      <td>0.406888</td>\n",
       "      <td>-0.234085</td>\n",
       "      <td>0.999936</td>\n",
       "      <td>0.671605</td>\n",
       "      <td>...</td>\n",
       "      <td>0.081472</td>\n",
       "      <td>0.993228</td>\n",
       "      <td>0.714445</td>\n",
       "      <td>0.882579</td>\n",
       "      <td>0.206206</td>\n",
       "      <td>0.901431</td>\n",
       "      <td>0.231325</td>\n",
       "      <td>0.902276</td>\n",
       "      <td>-0.034461</td>\n",
       "      <td>0.994783</td>\n",
       "    </tr>\n",
       "    <tr>\n",
       "      <th>1</th>\n",
       "      <td>TrikonaAsana</td>\n",
       "      <td>0.657797</td>\n",
       "      <td>0.401103</td>\n",
       "      <td>-0.232699</td>\n",
       "      <td>0.999983</td>\n",
       "      <td>0.670214</td>\n",
       "      <td>0.408072</td>\n",
       "      <td>-0.232902</td>\n",
       "      <td>0.999924</td>\n",
       "      <td>0.671432</td>\n",
       "      <td>...</td>\n",
       "      <td>0.029949</td>\n",
       "      <td>0.993468</td>\n",
       "      <td>0.716077</td>\n",
       "      <td>0.883021</td>\n",
       "      <td>0.225300</td>\n",
       "      <td>0.906267</td>\n",
       "      <td>0.232438</td>\n",
       "      <td>0.902466</td>\n",
       "      <td>-0.092808</td>\n",
       "      <td>0.994897</td>\n",
       "    </tr>\n",
       "    <tr>\n",
       "      <th>2</th>\n",
       "      <td>TrikonaAsana</td>\n",
       "      <td>0.657303</td>\n",
       "      <td>0.401405</td>\n",
       "      <td>-0.230929</td>\n",
       "      <td>0.999982</td>\n",
       "      <td>0.669726</td>\n",
       "      <td>0.408260</td>\n",
       "      <td>-0.229953</td>\n",
       "      <td>0.999913</td>\n",
       "      <td>0.671034</td>\n",
       "      <td>...</td>\n",
       "      <td>0.033274</td>\n",
       "      <td>0.993691</td>\n",
       "      <td>0.717033</td>\n",
       "      <td>0.883258</td>\n",
       "      <td>0.223532</td>\n",
       "      <td>0.911113</td>\n",
       "      <td>0.233140</td>\n",
       "      <td>0.902528</td>\n",
       "      <td>-0.088684</td>\n",
       "      <td>0.994986</td>\n",
       "    </tr>\n",
       "    <tr>\n",
       "      <th>3</th>\n",
       "      <td>TrikonaAsana</td>\n",
       "      <td>0.656615</td>\n",
       "      <td>0.401957</td>\n",
       "      <td>-0.230326</td>\n",
       "      <td>0.999981</td>\n",
       "      <td>0.669127</td>\n",
       "      <td>0.408609</td>\n",
       "      <td>-0.228878</td>\n",
       "      <td>0.999904</td>\n",
       "      <td>0.670539</td>\n",
       "      <td>...</td>\n",
       "      <td>0.030369</td>\n",
       "      <td>0.993931</td>\n",
       "      <td>0.717905</td>\n",
       "      <td>0.883356</td>\n",
       "      <td>0.222961</td>\n",
       "      <td>0.915716</td>\n",
       "      <td>0.234691</td>\n",
       "      <td>0.902397</td>\n",
       "      <td>-0.092079</td>\n",
       "      <td>0.995101</td>\n",
       "    </tr>\n",
       "    <tr>\n",
       "      <th>4</th>\n",
       "      <td>TrikonaAsana</td>\n",
       "      <td>0.656238</td>\n",
       "      <td>0.402549</td>\n",
       "      <td>-0.229423</td>\n",
       "      <td>0.999980</td>\n",
       "      <td>0.668835</td>\n",
       "      <td>0.409033</td>\n",
       "      <td>-0.227699</td>\n",
       "      <td>0.999897</td>\n",
       "      <td>0.670289</td>\n",
       "      <td>...</td>\n",
       "      <td>0.027389</td>\n",
       "      <td>0.994167</td>\n",
       "      <td>0.718261</td>\n",
       "      <td>0.883414</td>\n",
       "      <td>0.220368</td>\n",
       "      <td>0.919866</td>\n",
       "      <td>0.235331</td>\n",
       "      <td>0.902307</td>\n",
       "      <td>-0.095637</td>\n",
       "      <td>0.995226</td>\n",
       "    </tr>\n",
       "  </tbody>\n",
       "</table>\n",
       "<p>5 rows × 133 columns</p>\n",
       "</div>"
      ],
      "text/plain": [
       "          class        x1        y1        z1        v1        x2        y2  \\\n",
       "0  TrikonaAsana  0.658107  0.399988 -0.232685  0.999985  0.670482  0.406888   \n",
       "1  TrikonaAsana  0.657797  0.401103 -0.232699  0.999983  0.670214  0.408072   \n",
       "2  TrikonaAsana  0.657303  0.401405 -0.230929  0.999982  0.669726  0.408260   \n",
       "3  TrikonaAsana  0.656615  0.401957 -0.230326  0.999981  0.669127  0.408609   \n",
       "4  TrikonaAsana  0.656238  0.402549 -0.229423  0.999980  0.668835  0.409033   \n",
       "\n",
       "         z2        v2        x3  ...       z31       v31       x32       y32  \\\n",
       "0 -0.234085  0.999936  0.671605  ...  0.081472  0.993228  0.714445  0.882579   \n",
       "1 -0.232902  0.999924  0.671432  ...  0.029949  0.993468  0.716077  0.883021   \n",
       "2 -0.229953  0.999913  0.671034  ...  0.033274  0.993691  0.717033  0.883258   \n",
       "3 -0.228878  0.999904  0.670539  ...  0.030369  0.993931  0.717905  0.883356   \n",
       "4 -0.227699  0.999897  0.670289  ...  0.027389  0.994167  0.718261  0.883414   \n",
       "\n",
       "        z32       v32       x33       y33       z33       v33  \n",
       "0  0.206206  0.901431  0.231325  0.902276 -0.034461  0.994783  \n",
       "1  0.225300  0.906267  0.232438  0.902466 -0.092808  0.994897  \n",
       "2  0.223532  0.911113  0.233140  0.902528 -0.088684  0.994986  \n",
       "3  0.222961  0.915716  0.234691  0.902397 -0.092079  0.995101  \n",
       "4  0.220368  0.919866  0.235331  0.902307 -0.095637  0.995226  \n",
       "\n",
       "[5 rows x 133 columns]"
      ]
     },
     "execution_count": 454,
     "metadata": {},
     "output_type": "execute_result"
    }
   ],
   "source": [
    "df.head()"
   ]
  },
  {
   "cell_type": "code",
   "execution_count": 455,
   "metadata": {},
   "outputs": [
    {
     "data": {
      "text/plain": [
       "0          TrikonaAsana\n",
       "1          TrikonaAsana\n",
       "2          TrikonaAsana\n",
       "3          TrikonaAsana\n",
       "4          TrikonaAsana\n",
       "              ...      \n",
       "13844    ArdhChakrAsana\n",
       "13845    ArdhChakrAsana\n",
       "13846    ArdhChakrAsana\n",
       "13847    ArdhChakrAsana\n",
       "13848    ArdhChakrAsana\n",
       "Name: class, Length: 13849, dtype: object"
      ]
     },
     "execution_count": 455,
     "metadata": {},
     "output_type": "execute_result"
    }
   ],
   "source": [
    "X = df.drop('class', axis=1) # features\n",
    "y = df['class'] # target value\n",
    "y"
   ]
  },
  {
   "cell_type": "code",
   "execution_count": 456,
   "metadata": {},
   "outputs": [],
   "source": [
    "from sklearn.model_selection import train_test_split\n",
    "from sklearn import *\n",
    "X_train, X_test, y_train, y_test = train_test_split(X, y, test_size=0.2)"
   ]
  },
  {
   "cell_type": "code",
   "execution_count": 457,
   "metadata": {},
   "outputs": [
    {
     "data": {
      "text/plain": [
       "((11079, 132), (2770, 132), (11079,), (2770,))"
      ]
     },
     "execution_count": 457,
     "metadata": {},
     "output_type": "execute_result"
    }
   ],
   "source": [
    "X_train.shape, X_test.shape, y_train.shape, y_test.shape"
   ]
  },
  {
   "cell_type": "code",
   "execution_count": 458,
   "metadata": {},
   "outputs": [
    {
     "data": {
      "text/plain": [
       "class    0\n",
       "x1       0\n",
       "y1       0\n",
       "z1       0\n",
       "v1       0\n",
       "        ..\n",
       "v32      0\n",
       "x33      0\n",
       "y33      0\n",
       "z33      0\n",
       "v33      0\n",
       "Length: 133, dtype: int64"
      ]
     },
     "execution_count": 458,
     "metadata": {},
     "output_type": "execute_result"
    }
   ],
   "source": [
    "df.isna().sum()"
   ]
  },
  {
   "cell_type": "markdown",
   "metadata": {},
   "source": [
    "## Training and Evaluating on Algorithm - 1 = RandomForest"
   ]
  },
  {
   "cell_type": "code",
   "execution_count": 459,
   "metadata": {},
   "outputs": [
    {
     "data": {
      "text/plain": [
       "99.93681740229262"
      ]
     },
     "execution_count": 459,
     "metadata": {},
     "output_type": "execute_result"
    }
   ],
   "source": [
    "from sklearn.ensemble import RandomForestClassifier\n",
    "\n",
    "model = RandomForestClassifier(n_estimators=2)\n",
    "model.fit(X_train,y_train)\n",
    "model.score(X_train,y_train)*100   #score basically returns the mean accuracy on the given test data and labels\n"
   ]
  },
  {
   "cell_type": "code",
   "execution_count": 460,
   "metadata": {},
   "outputs": [
    {
     "data": {
      "text/plain": [
       "99.85559566787003"
      ]
     },
     "execution_count": 460,
     "metadata": {},
     "output_type": "execute_result"
    }
   ],
   "source": [
    "model.score(X_test,y_test)*100"
   ]
  },
  {
   "cell_type": "markdown",
   "metadata": {},
   "source": []
  },
  {
   "cell_type": "code",
   "execution_count": 461,
   "metadata": {},
   "outputs": [
    {
     "data": {
      "image/png": "[encoded data removed]",
      "text/plain": [
       "<Figure size 720x360 with 1 Axes>"
      ]
     },
     "metadata": {
      "needs_background": "light"
     },
     "output_type": "display_data"
    }
   ],
   "source": [
    "\n",
    "a = model.score(X_train,y_train) \n",
    "b = model.score(X_test,y_test)\n",
    "data = {'Training':a,'Testing':b}\n",
    "train = list(data.keys())\n",
    "acc = list(data.values())\n",
    "  \n",
    "fig = plt.figure(figsize = (10, 5))\n",
    " \n",
    "# creating the bar plot\n",
    "plt.bar(train,acc,\n",
    "        width = 0.5)\n",
    " \n",
    "plt.xlabel(\"Data Split\")\n",
    "plt.ylabel(\"Accuracy Score\")\n",
    "plt.title(\"Evaluating the training and testing dataset\")\n",
    "plt.show()"
   ]
  },
  {
   "cell_type": "code",
   "execution_count": 462,
   "metadata": {},
   "outputs": [
    {
     "data": {
      "text/plain": [
       "array([0.82129964, 0.80866426, 0.88736462, 0.87870036, 0.77139762])"
      ]
     },
     "execution_count": 462,
     "metadata": {},
     "output_type": "execute_result"
    }
   ],
   "source": [
    "from sklearn.model_selection import cross_val_score\n",
    "cross_val_score(model,X,y)"
   ]
  },
  {
   "cell_type": "code",
   "execution_count": 463,
   "metadata": {},
   "outputs": [
    {
     "data": {
      "text/plain": [
       "(0.9985559566787003, 0.8947157870857468)"
      ]
     },
     "execution_count": 463,
     "metadata": {},
     "output_type": "execute_result"
    }
   ],
   "source": [
    "#compare score and cross_validation_score\n",
    "score_model = model.score(X_test,y_test)\n",
    "cross_val_score_model = np.mean(cross_val_score(model,X,y))\n",
    "\n",
    "score_model,cross_val_score_model"
   ]
  },
  {
   "cell_type": "code",
   "execution_count": 464,
   "metadata": {},
   "outputs": [
    {
     "name": "stdout",
     "output_type": "stream",
     "text": [
      "Final Accuracy of our ML model: 89.47%\n"
     ]
    }
   ],
   "source": [
    "\n",
    "print(f\"Final Accuracy of our ML model: {cross_val_score_model*100:.2f}%\")"
   ]
  },
  {
   "cell_type": "markdown",
   "metadata": {},
   "source": [
    "## Confusion matrix"
   ]
  },
  {
   "cell_type": "code",
   "execution_count": 465,
   "metadata": {},
   "outputs": [
    {
     "data": {
      "text/html": [
       "<div>\n",
       "<style scoped>\n",
       "    .dataframe tbody tr th:only-of-type {\n",
       "        vertical-align: middle;\n",
       "    }\n",
       "\n",
       "    .dataframe tbody tr th {\n",
       "        vertical-align: top;\n",
       "    }\n",
       "\n",
       "    .dataframe thead th {\n",
       "        text-align: right;\n",
       "    }\n",
       "</style>\n",
       "<table border=\"1\" class=\"dataframe\">\n",
       "  <thead>\n",
       "    <tr style=\"text-align: right;\">\n",
       "      <th>predicted</th>\n",
       "      <th>ArdhChakrAsana</th>\n",
       "      <th>BhujangAsana</th>\n",
       "      <th>PadahastAsana</th>\n",
       "      <th>SetuBandhAsana</th>\n",
       "      <th>ShavaAsana</th>\n",
       "      <th>TadaAsana</th>\n",
       "      <th>TrikonaAsana</th>\n",
       "      <th>VrikshAsana</th>\n",
       "    </tr>\n",
       "    <tr>\n",
       "      <th>actual labels</th>\n",
       "      <th></th>\n",
       "      <th></th>\n",
       "      <th></th>\n",
       "      <th></th>\n",
       "      <th></th>\n",
       "      <th></th>\n",
       "      <th></th>\n",
       "      <th></th>\n",
       "    </tr>\n",
       "  </thead>\n",
       "  <tbody>\n",
       "    <tr>\n",
       "      <th>ArdhChakrAsana</th>\n",
       "      <td>420</td>\n",
       "      <td>0</td>\n",
       "      <td>0</td>\n",
       "      <td>0</td>\n",
       "      <td>0</td>\n",
       "      <td>0</td>\n",
       "      <td>0</td>\n",
       "      <td>0</td>\n",
       "    </tr>\n",
       "    <tr>\n",
       "      <th>BhujangAsana</th>\n",
       "      <td>0</td>\n",
       "      <td>296</td>\n",
       "      <td>0</td>\n",
       "      <td>0</td>\n",
       "      <td>0</td>\n",
       "      <td>0</td>\n",
       "      <td>0</td>\n",
       "      <td>0</td>\n",
       "    </tr>\n",
       "    <tr>\n",
       "      <th>PadahastAsana</th>\n",
       "      <td>0</td>\n",
       "      <td>0</td>\n",
       "      <td>324</td>\n",
       "      <td>0</td>\n",
       "      <td>0</td>\n",
       "      <td>0</td>\n",
       "      <td>0</td>\n",
       "      <td>0</td>\n",
       "    </tr>\n",
       "    <tr>\n",
       "      <th>SetuBandhAsana</th>\n",
       "      <td>0</td>\n",
       "      <td>0</td>\n",
       "      <td>0</td>\n",
       "      <td>354</td>\n",
       "      <td>0</td>\n",
       "      <td>0</td>\n",
       "      <td>0</td>\n",
       "      <td>0</td>\n",
       "    </tr>\n",
       "    <tr>\n",
       "      <th>ShavaAsana</th>\n",
       "      <td>1</td>\n",
       "      <td>0</td>\n",
       "      <td>0</td>\n",
       "      <td>1</td>\n",
       "      <td>291</td>\n",
       "      <td>0</td>\n",
       "      <td>0</td>\n",
       "      <td>0</td>\n",
       "    </tr>\n",
       "    <tr>\n",
       "      <th>TadaAsana</th>\n",
       "      <td>0</td>\n",
       "      <td>0</td>\n",
       "      <td>0</td>\n",
       "      <td>0</td>\n",
       "      <td>0</td>\n",
       "      <td>305</td>\n",
       "      <td>0</td>\n",
       "      <td>0</td>\n",
       "    </tr>\n",
       "    <tr>\n",
       "      <th>TrikonaAsana</th>\n",
       "      <td>0</td>\n",
       "      <td>0</td>\n",
       "      <td>0</td>\n",
       "      <td>0</td>\n",
       "      <td>0</td>\n",
       "      <td>0</td>\n",
       "      <td>436</td>\n",
       "      <td>0</td>\n",
       "    </tr>\n",
       "    <tr>\n",
       "      <th>VrikshAsana</th>\n",
       "      <td>0</td>\n",
       "      <td>0</td>\n",
       "      <td>0</td>\n",
       "      <td>0</td>\n",
       "      <td>0</td>\n",
       "      <td>2</td>\n",
       "      <td>0</td>\n",
       "      <td>340</td>\n",
       "    </tr>\n",
       "  </tbody>\n",
       "</table>\n",
       "</div>"
      ],
      "text/plain": [
       "predicted       ArdhChakrAsana  BhujangAsana  PadahastAsana  SetuBandhAsana  \\\n",
       "actual labels                                                                 \n",
       "ArdhChakrAsana             420             0              0               0   \n",
       "BhujangAsana                 0           296              0               0   \n",
       "PadahastAsana                0             0            324               0   \n",
       "SetuBandhAsana               0             0              0             354   \n",
       "ShavaAsana                   1             0              0               1   \n",
       "TadaAsana                    0             0              0               0   \n",
       "TrikonaAsana                 0             0              0               0   \n",
       "VrikshAsana                  0             0              0               0   \n",
       "\n",
       "predicted       ShavaAsana  TadaAsana  TrikonaAsana  VrikshAsana  \n",
       "actual labels                                                     \n",
       "ArdhChakrAsana           0          0             0            0  \n",
       "BhujangAsana             0          0             0            0  \n",
       "PadahastAsana            0          0             0            0  \n",
       "SetuBandhAsana           0          0             0            0  \n",
       "ShavaAsana             291          0             0            0  \n",
       "TadaAsana                0        305             0            0  \n",
       "TrikonaAsana             0          0           436            0  \n",
       "VrikshAsana              0          2             0          340  "
      ]
     },
     "execution_count": 465,
     "metadata": {},
     "output_type": "execute_result"
    }
   ],
   "source": [
    "from sklearn.metrics import *\n",
    "y_preds = model.predict(X_test)\n",
    "confusion_matrix(y_test,y_preds)\n",
    "pd.crosstab(y_test,y_preds,rownames=['actual labels'],colnames=['predicted'])"
   ]
  },
  {
   "cell_type": "code",
   "execution_count": 466,
   "metadata": {},
   "outputs": [
    {
     "data": {
      "image/png": "[encoded data removed]",
      "text/plain": [
       "<Figure size 432x288 with 2 Axes>"
      ]
     },
     "metadata": {
      "needs_background": "light"
     },
     "output_type": "display_data"
    }
   ],
   "source": [
    "\n",
    "prediction = model.predict(X_test)\n",
    "cm = confusion_matrix(y_test, prediction)\n",
    "disp = ConfusionMatrixDisplay(confusion_matrix=cm)\n",
    "\n",
    "disp.plot()\n",
    "plt.show()"
   ]
  },
  {
   "cell_type": "code",
   "execution_count": 467,
   "metadata": {},
   "outputs": [
    {
     "data": {
      "text/plain": [
       "<sklearn.metrics._plot.confusion_matrix.ConfusionMatrixDisplay at 0x1e2d30c50d0>"
      ]
     },
     "execution_count": 467,
     "metadata": {},
     "output_type": "execute_result"
    },
    {
     "data": {
      "image/png": "[encoded data removed]",
      "text/plain": [
       "<Figure size 1152x1440 with 2 Axes>"
      ]
     },
     "metadata": {
      "needs_background": "light"
     },
     "output_type": "display_data"
    }
   ],
   "source": [
    "fig, ax = plt.subplots(figsize=(16,20))\n",
    "plot_confusion_matrix(model, X_test, y_test, ax=ax)"
   ]
  },
  {
   "cell_type": "code",
   "execution_count": 468,
   "metadata": {},
   "outputs": [
    {
     "name": "stdout",
     "output_type": "stream",
     "text": [
      "                precision    recall  f1-score   support\n",
      "\n",
      "ArdhChakrAsana       1.00      1.00      1.00       420\n",
      "  BhujangAsana       1.00      1.00      1.00       296\n",
      " PadahastAsana       1.00      1.00      1.00       324\n",
      "SetuBandhAsana       1.00      1.00      1.00       354\n",
      "    ShavaAsana       1.00      0.99      1.00       293\n",
      "     TadaAsana       0.99      1.00      1.00       305\n",
      "  TrikonaAsana       1.00      1.00      1.00       436\n",
      "   VrikshAsana       1.00      0.99      1.00       342\n",
      "\n",
      "      accuracy                           1.00      2770\n",
      "     macro avg       1.00      1.00      1.00      2770\n",
      "  weighted avg       1.00      1.00      1.00      2770\n",
      "\n"
     ]
    }
   ],
   "source": [
    "from sklearn.metrics import *\n",
    "print(classification_report(y_test,y_preds))"
   ]
  }
 ],
 "metadata": {
  "interpreter": {
   "hash": "c0f70214c0dd213f07f54ee5d6e0ea644bdbba35113c9bfe8aaa0d1db03ad5dd"
  },
  "kernelspec": {
   "display_name": "Python 3.9.7 ('base')",
   "language": "python",
   "name": "python3"
  },
  "language_info": {
   "codemirror_mode": {
    "name": "ipython",
    "version": 3
   },
   "file_extension": ".py",
   "mimetype": "text/x-python",
   "name": "python",
   "nbconvert_exporter": "python",
   "pygments_lexer": "ipython3",
   "version": "3.9.7"
  },
  "orig_nbformat": 4
 },
 "nbformat": 4,
 "nbformat_minor": 2
}
